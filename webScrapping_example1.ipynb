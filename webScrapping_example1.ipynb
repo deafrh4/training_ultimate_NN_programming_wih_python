{
 "cells": [
  {
   "cell_type": "code",
   "execution_count": 13,
   "metadata": {},
   "outputs": [
    {
     "name": "stdout",
     "output_type": "stream",
     "text": [
      "“The world as we have created it is a process of our thinking. It cannot be changed without changing our thinking.”\n",
      "“It is our choices, Harry, that show what we truly are, far more than our abilities.”\n",
      "“There are only two ways to live your life. One is as though nothing is a miracle. The other is as though everything is a miracle.”\n",
      "“The person, be it gentleman or lady, who has not pleasure in a good novel, must be intolerably stupid.”\n",
      "“Imperfection is beauty, madness is genius and it's better to be absolutely ridiculous than absolutely boring.”\n",
      "“Try not to become a man of success. Rather become a man of value.”\n",
      "“It is better to be hated for what you are than to be loved for what you are not.”\n"
     ]
    }
   ],
   "source": [
    "from bs4 import BeautifulSoup\n",
    "import requests\n",
    "import pandas as pd\n",
    "\n",
    "\n",
    "#url of the website to scrap\n",
    "url=\"http://quotes.toscrape.com\"\n",
    "\n",
    "#send a get request to the website\n",
    "req=requests.get(url)\n",
    "\n",
    "#parse the page content\n",
    "soup=BeautifulSoup(req.text,\"html.parser\")\n",
    "\n",
    "#extract quotes\n",
    "quotes =soup.find_all('span',class_='text')\n",
    "\n",
    "#print the first 5 quotes\n",
    "for quote in quotes[:7] :\n",
    "    print(quote.get_text())"
   ]
  },
  {
   "cell_type": "code",
   "execution_count": 5,
   "metadata": {},
   "outputs": [],
   "source": [
    "tags=soup('img')\n",
    "for tag in tags:\n",
    "    print(tag.get('src',None))\n"
   ]
  }
 ],
 "metadata": {
  "kernelspec": {
   "display_name": "env_training_book_ultimate_NN_programming_with_python",
   "language": "python",
   "name": "python3"
  },
  "language_info": {
   "codemirror_mode": {
    "name": "ipython",
    "version": 3
   },
   "file_extension": ".py",
   "mimetype": "text/x-python",
   "name": "python",
   "nbconvert_exporter": "python",
   "pygments_lexer": "ipython3",
   "version": "3.12.0"
  }
 },
 "nbformat": 4,
 "nbformat_minor": 2
}
