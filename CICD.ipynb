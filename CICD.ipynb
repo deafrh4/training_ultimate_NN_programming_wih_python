{
 "cells": [
  {
   "cell_type": "code",
   "execution_count": null,
   "metadata": {},
   "outputs": [],
   "source": [
    "def add (first_term,second_term):\n",
    "    return first_term+second_term\n",
    "\n",
    "def substract(first_term,second_term):\n",
    "    return first_term-second_term\n",
    "\n",
    "\n"
   ]
  }
 ],
 "metadata": {
  "kernelspec": {
   "display_name": "env_training_book_ultimate_NN_programming_with_python",
   "language": "python",
   "name": "python3"
  },
  "language_info": {
   "name": "python",
   "version": "3.12.0"
  }
 },
 "nbformat": 4,
 "nbformat_minor": 2
}
